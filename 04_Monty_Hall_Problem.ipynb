{
  "nbformat": 4,
  "nbformat_minor": 0,
  "metadata": {
    "colab": {
      "provenance": []
    },
    "kernelspec": {
      "name": "python3",
      "display_name": "Python 3"
    },
    "language_info": {
      "name": "python"
    }
  },
  "cells": [
    {
      "cell_type": "markdown",
      "source": [
        "# **Solving the Monty Hall Problem Using Bayesian Inference**\n",
        "\n",
        "## **Problem Description**\n",
        "The Monty Hall problem can be described as follows:\n",
        "1. There are 3 doors in front of you: Door 1, Door 2, and Door 3.\n",
        "2. Behind one of the doors is a car (the reward), and behind the other two doors are goats.\n",
        "3. Assume you initially choose Door 1.\n",
        "4. The host (Monty) then opens one of the two remaining doors, revealing a goat.\n",
        "5. The host will always open a door with a goat behind it and will never open a door with the car behind it.\n",
        "6. Now, you are given the choice to **stick with your current selection** or **switch to the other unopened door**.\n",
        "\n",
        "## **Question**\n",
        "- Is it a better strategy to switch doors?\n",
        "- Let's prove this using Bayesian inference.\n",
        "\n",
        "---\n",
        "\n",
        "## **Bayesian Inference**\n",
        "Bayes' theorem is expressed as:\n",
        "\n",
        "$P(H \\mid E) = \\frac{P(E \\mid H) P(H)}{P(E)}$\n",
        "\n",
        "- $H$: Hypothesis (the probability of the car being behind a specific door).\n",
        "- $E$: Evidence (the observation that the host opens a specific door).\n",
        "\n",
        "---\n",
        "\n",
        "## **Step-by-Step Solution**\n",
        "\n",
        "### **1. Prior Probabilities ($P(H)$)**\n",
        "The car is equally likely to be behind any of the three doors:\n",
        "$P(H_1) = P(H_2) = P(H_3) = \\frac{1}{3}$\n",
        "\n",
        "Here:\n",
        "- $H_1$: The car is behind Door 1.\n",
        "- $H_2$: The car is behind Door 2.\n",
        "- $H_3$: The car is behind Door 3.\n",
        "\n",
        "---\n",
        "\n",
        "### **2. Conditional Probabilities ($P(E \\mid H)$)**\n",
        "The conditional probabilities for the host opening Door 3 are as follows:\n",
        "- $P(E \\mid H_1)$: If the car is behind Door 1, the host can open either Door 2 or Door 3.  \n",
        "  - The probability of opening Door 3 is $\\frac{1}{2}$.\n",
        "- $P(E \\mid H_2)$: If the car is behind Door 2, the host must open Door 3.  \n",
        "  - The probability of opening Door 3 is $1$.\n",
        "- $P(E \\mid H_3)$: If the car is behind Door 3, the host will not open Door 3.  \n",
        "  - The probability of opening Door 3 is $0$.\n",
        "\n",
        "---\n",
        "\n",
        "### **3. Applying Bayes' Theorem**\n",
        "After the host opens Door 3, the posterior probabilities of the car being behind each door are calculated as follows:\n",
        "\n",
        "#### (1) $P(H_1 \\mid E)$\n",
        "$P(H_1 \\mid E) = \\frac{P(E \\mid H_1) P(H_1)}{P(E)}$\n",
        "\n",
        "#### (2) $P(H_2 \\mid E)$\n",
        "$P(H_2 \\mid E) = \\frac{P(E \\mid H_2) P(H_2)}{P(E)}$\n",
        "\n",
        "#### (3) $P(H_3 \\mid E)$\n",
        "$P(H_3 \\mid E) = \\frac{P(E \\mid H_3) P(H_3)}{P(E)}$\n",
        "\n",
        "---\n",
        "\n",
        "### **4. Calculating $P(E)$ (Normalization Constant)**\n",
        "$P(E) = P(E \\mid H_1)P(H_1) + P(E \\mid H_2)P(H_2) + P(E \\mid H_3)P(H_3)$\n",
        "\n",
        "Substitute the values:\n",
        "$P(E) = \\frac{1}{2} \\cdot \\frac{1}{3} + 1 \\cdot \\frac{1}{3} + 0 \\cdot \\frac{1}{3} = \\frac{1}{6} + \\frac{1}{3} = \\frac{1}{2}$\n",
        "\n",
        "---\n",
        "\n",
        "### **5. Calculating Posterior Probabilities**\n",
        "#### $P(H_1 \\mid E)$\n",
        "$P(H_1 \\mid E) = \\frac{P(E \\mid H_1) P(H_1)}{P(E)} = \\frac{\\frac{1}{2} \\cdot \\frac{1}{3}}{\\frac{1}{2}} = \\frac{1}{3}$\n",
        "\n",
        "#### $P(H_2 \\mid E)$\n",
        "$P(H_2 \\mid E) = \\frac{P(E \\mid H_2) P(H_2)}{P(E)} = \\frac{1 \\cdot \\frac{1}{3}}{\\frac{1}{2}} = \\frac{2}{3}$\n",
        "\n",
        "#### $P(H_3 \\mid E)$\n",
        "$P(H_3 \\mid E) = \\frac{P(E \\mid H_3) P(H_3)}{P(E)} = \\frac{0 \\cdot \\frac{1}{3}}{\\frac{1}{2}} = 0$\n",
        "\n",
        "---\n",
        "\n",
        "## **Final Conclusion**\n",
        "- If you stick with your initial choice (Door 1), the probability of winning the car is $P(H_1 \\mid E) = \\frac{1}{3}$, or 33%.\n",
        "- If you switch to the other unopened door (Door 2), the probability of winning the car is $P(H_2 \\mid E) = \\frac{2}{3}$, or 67%.\n",
        "- **Therefore, switching doors is the better strategy.**\n"
      ],
      "metadata": {
        "id": "RXyYU70RFky3"
      }
    },
    {
      "cell_type": "markdown",
      "source": [
        "# **Practice with Python code implementation**"
      ],
      "metadata": {
        "id": "eDQAylnFHy59"
      }
    },
    {
      "cell_type": "code",
      "execution_count": 4,
      "metadata": {
        "colab": {
          "base_uri": "https://localhost:8080/",
          "height": 489
        },
        "id": "ERwGiNeS-pvy",
        "outputId": "7132d49c-a23c-42e0-fb21-b1e8397ddaa5"
      },
      "outputs": [
        {
          "output_type": "stream",
          "name": "stdout",
          "text": [
            "Number of wins by switching: 6682 (66.82%)\n",
            "Number of wins by staying: 3318 (33.18%)\n"
          ]
        },
        {
          "output_type": "display_data",
          "data": {
            "text/plain": [
              "<Figure size 640x480 with 1 Axes>"
            ],
            "image/png": "[encoded data removed]"
          },
          "metadata": {}
        }
      ],
      "source": [
        "import random\n",
        "import matplotlib.pyplot as plt\n",
        "\n",
        "def monty_hall_simulation(num_trials=10000):\n",
        "    switch_wins = 0  # Number of wins by switching\n",
        "    stay_wins = 0    # Number of wins by staying\n",
        "\n",
        "    for _ in range(num_trials):\n",
        "        # 1. The host randomly places the car behind one of the doors\n",
        "        doors = [0, 0, 0]  # 0 represents a goat, 1 represents the car\n",
        "        car_position = random.randint(0, 2)\n",
        "        doors[car_position] = 1\n",
        "\n",
        "        # 2. The player makes an initial choice of one door\n",
        "        player_choice = random.randint(0, 2)\n",
        "\n",
        "        # 3. The host opens a door with a goat (not chosen by the player)\n",
        "        possible_doors_to_open = [i for i in range(3) if i != player_choice and doors[i] == 0]\n",
        "        door_opened_by_host = random.choice(possible_doors_to_open)\n",
        "\n",
        "        # 4. The player switches to the remaining unopened door\n",
        "        remaining_door = [i for i in range(3) if i != player_choice and i != door_opened_by_host][0]\n",
        "        if doors[remaining_door] == 1:\n",
        "            switch_wins += 1\n",
        "\n",
        "        # 5. The player stays with their original choice\n",
        "        if doors[player_choice] == 1:\n",
        "            stay_wins += 1\n",
        "\n",
        "    # Output results\n",
        "    print(f\"Number of wins by switching: {switch_wins} ({(switch_wins / num_trials) * 100:.2f}%)\")\n",
        "    print(f\"Number of wins by staying: {stay_wins} ({(stay_wins / num_trials) * 100:.2f}%)\")\n",
        "\n",
        "    # Plotting the histogram\n",
        "    strategies = ['Switch Wins', 'Stay Wins']\n",
        "    results = [switch_wins, stay_wins]\n",
        "\n",
        "    plt.bar(strategies, results, color=['blue', 'orange'])\n",
        "    plt.title('Monty Hall Simulation Results')\n",
        "    plt.ylabel('Number of Wins')\n",
        "    plt.show()\n",
        "\n",
        "# Run the simulation\n",
        "monty_hall_simulation()"
      ]
    }
  ]
}
