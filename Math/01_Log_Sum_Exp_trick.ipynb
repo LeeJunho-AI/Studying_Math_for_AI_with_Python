{
  "nbformat": 4,
  "nbformat_minor": 0,
  "metadata": {
    "colab": {
      "provenance": []
    },
    "kernelspec": {
      "name": "python3",
      "display_name": "Python 3"
    },
    "language_info": {
      "name": "python"
    }
  },
  "cells": [
    {
      "cell_type": "markdown",
      "source": [
        "## **Log-Sum-Exp Trick**\n",
        "\n",
        "### **Problem**  \n",
        "When the logits are a = [10000, 10001, 10002], an overflow occurs if we directly substitute these values into the exp function to compute the softmax function.\n",
        "<br>\n",
        "\n",
        "---\n",
        "### **Soltuion**\n",
        "using LSE function:  \n",
        "lse(**a**) = $\\sum\\limits_{c'=1}^{C} \\log{(exp(a_{c'}))}$  \n",
        "lse(**a**) = $m + \\log{(exp{(a_c')}-m)}$\n",
        "   \n",
        "(m represents the maximum or minimum value of logits **a**)  \n",
        "\n",
        "---\n",
        "\n",
        "### **Conclusion**\n",
        "It can resolve the overflow/underflow problem.  \n",
        "Probability = $\\displaystyle \\exp(log(\\frac{e^a}{\\sum\\limits_{c'=1}^{C}e^{a_c'}})) = exp(a_c - lse(a))$"
      ],
      "metadata": {
        "id": "3ChpbTPfP9bx"
      }
    },
    {
      "cell_type": "markdown",
      "source": [
        "### **Implementation Using Python**"
      ],
      "metadata": {
        "id": "Zo5mquJfR5RS"
      }
    },
    {
      "cell_type": "code",
      "source": [
        "import numpy as np\n",
        "\n",
        "# Define input logits\n",
        "a = np.array([10001, 10002, 10003])\n",
        "\n",
        "# Demonstrate overflow issue with direct exp computation\n",
        "a_output = np.exp(a)\n",
        "if np.isinf(a_output).any():\n",
        "    print(\"Overflow occurred in exp computation\")\n",
        "else:\n",
        "    print(a_output)\n",
        "\n",
        "# Define log-sum-exp trick function\n",
        "def lse(a):\n",
        "    m = np.max(a)  # Maximum value in logits\n",
        "    return m + np.log(np.sum(np.exp(a - m)))  # Log-sum-exp trick\n",
        "\n",
        "# Apply log-sum-exp trick\n",
        "lse_output = lse(a)\n",
        "\n",
        "# Compute softmax probabilities\n",
        "probability = np.exp(a - lse_output)\n",
        "\n",
        "# Print the probabilities\n",
        "print(\"Softmax probabilities:\", probability)\n"
      ],
      "metadata": {
        "colab": {
          "base_uri": "https://localhost:8080/"
        },
        "id": "sVpt_jThU6Aq",
        "outputId": "ff71a857-554d-4e9c-bfc3-917e1c6fa024"
      },
      "execution_count": 23,
      "outputs": [
        {
          "output_type": "stream",
          "name": "stdout",
          "text": [
            "Overflow occurred in exp computation\n",
            "Softmax probabilities: [0.09003057 0.24472847 0.66524096]\n"
          ]
        },
        {
          "output_type": "stream",
          "name": "stderr",
          "text": [
            "<ipython-input-23-ebfe528e8e94>:7: RuntimeWarning: overflow encountered in exp\n",
            "  a_output = np.exp(a)\n"
          ]
        }
      ]
    }
  ]
}