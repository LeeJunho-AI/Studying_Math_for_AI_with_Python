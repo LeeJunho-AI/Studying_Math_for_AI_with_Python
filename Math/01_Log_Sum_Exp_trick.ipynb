{
  "nbformat": 4,
  "nbformat_minor": 0,
  "metadata": {
    "colab": {
      "provenance": []
    },
    "kernelspec": {
      "name": "python3",
      "display_name": "Python 3"
    },
    "language_info": {
      "name": "python"
    }
  },
  "cells": [
    {
      "cell_type": "code",
      "execution_count": 10,
      "metadata": {
        "id": "T-bToAqblZmh"
      },
      "outputs": [],
      "source": [
        "import numpy as np\n",
        "input = np.array([1000, 1001, 1002])"
      ]
    },
    {
      "cell_type": "code",
      "source": [
        "# The output overflowed\n",
        "output = 0\n",
        "for element in input:\n",
        "  output += np.exp(element)\n",
        "print(f'Output: {output}')"
      ],
      "metadata": {
        "colab": {
          "base_uri": "https://localhost:8080/"
        },
        "id": "nmu3lSA9nW81",
        "outputId": "cd2a43e3-6d30-4501-d092-9a560e9fb3f9"
      },
      "execution_count": 11,
      "outputs": [
        {
          "output_type": "stream",
          "name": "stdout",
          "text": [
            "Output: inf\n"
          ]
        },
        {
          "output_type": "stream",
          "name": "stderr",
          "text": [
            "<ipython-input-11-69e176961690>:4: RuntimeWarning: overflow encountered in exp\n",
            "  output += np.exp(element)\n"
          ]
        }
      ]
    },
    {
      "cell_type": "code",
      "source": [
        "# It did not overflow this time.\n",
        "output = 0\n",
        "max_element = np.max(input)\n",
        "for element in input:\n",
        "  output += np.exp(element - max_element)\n",
        "  # => input_updated == (-2, -1, 0)\n",
        "print(f'Output: {output}')"
      ],
      "metadata": {
        "colab": {
          "base_uri": "https://localhost:8080/"
        },
        "id": "-viRcBr_ngV_",
        "outputId": "6a84c256-02be-4cd6-c307-0d424cec2780"
      },
      "execution_count": 13,
      "outputs": [
        {
          "output_type": "stream",
          "name": "stdout",
          "text": [
            "Output: 1.5032147244080551\n"
          ]
        }
      ]
    }
  ]
}
